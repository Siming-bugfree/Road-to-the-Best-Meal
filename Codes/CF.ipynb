{
 "metadata": {
  "language_info": {
   "codemirror_mode": {
    "name": "ipython",
    "version": 3
   },
   "file_extension": ".py",
   "mimetype": "text/x-python",
   "name": "python",
   "nbconvert_exporter": "python",
   "pygments_lexer": "ipython3",
   "version": "3.8.3-final"
  },
  "orig_nbformat": 2,
  "kernelspec": {
   "name": "python38364bitworkspacecondaaf343fc5f65c4bf8bc62737469d477bf",
   "display_name": "Python 3.8.3 64-bit ('workspace': conda)",
   "language": "python"
  }
 },
 "nbformat": 4,
 "nbformat_minor": 2,
 "cells": [
  {
   "cell_type": "code",
   "execution_count": 53,
   "metadata": {},
   "outputs": [],
   "source": [
    "import numpy as np \n",
    "import pandas as pd \n",
    "\n",
    "dff = pd.read_csv('data_for_recommendation.csv')"
   ]
  },
  {
   "cell_type": "code",
   "execution_count": 58,
   "metadata": {},
   "outputs": [
    {
     "output_type": "stream",
     "name": "stdout",
     "text": [
      "1276\n1734\n"
     ]
    }
   ],
   "source": [
    "print(len(user_id))\n",
    "print(len(recipe_id))"
   ]
  },
  {
   "cell_type": "code",
   "execution_count": 2,
   "metadata": {},
   "outputs": [],
   "source": [
    "user = pd.DataFrame(list(dff['user_id'].unique())).set_index(0)\n",
    "user['viewed_recipes'] = dff.groupby('user_id').size()\n",
    "user_id = list(user[user['viewed_recipes'] >= 20].index)"
   ]
  },
  {
   "cell_type": "code",
   "execution_count": 34,
   "metadata": {},
   "outputs": [],
   "source": [
    "recipe = pd.DataFrame(list(dff['recipe_id'].unique())).set_index(0)\n",
    "recipe['viewed_users'] = dff.groupby('recipe_id').size()\n",
    "recipe_id = list(recipe[recipe['viewed_users'] >= 10].index)"
   ]
  },
  {
   "cell_type": "code",
   "execution_count": 35,
   "metadata": {},
   "outputs": [],
   "source": [
    "cols = ['user_id', 'recipe_id', 'final_rating']\n",
    "d1 = dff[dff['user_id'].isin(user_id)][cols]\n",
    "d2 = d1[d1['recipe_id'].isin(recipe_id)][cols]"
   ]
  },
  {
   "cell_type": "code",
   "execution_count": 36,
   "metadata": {},
   "outputs": [
    {
     "output_type": "stream",
     "name": "stdout",
     "text": [
      "(1276, 1734)\n"
     ]
    }
   ],
   "source": [
    "n_recipes = len(recipe_id)\n",
    "n_users = len(user_id)\n",
    "train_data_matrix = np.zeros((n_users, n_recipes))\n",
    "print(train_data_matrix.shape)\n",
    "\n",
    "sorted_user = sorted(user_id)\n",
    "sorted_recipe = sorted(recipe_id)"
   ]
  },
  {
   "cell_type": "code",
   "execution_count": 37,
   "metadata": {},
   "outputs": [],
   "source": [
    "user_id_new = []\n",
    "recipe_id_new = []\n",
    "for i in range(0, len(d2)):\n",
    "    user_id_new.append(sorted_user.index(d2['user_id'].iloc[i]))\n",
    "    recipe_id_new.append(sorted_recipe.index(d2['recipe_id'].iloc[i]))"
   ]
  },
  {
   "cell_type": "code",
   "execution_count": 38,
   "metadata": {},
   "outputs": [],
   "source": [
    "d2['user_id_new'] = user_id_new\n",
    "d2['recipe_id_new'] = recipe_id_new"
   ]
  },
  {
   "cell_type": "code",
   "execution_count": 39,
   "metadata": {},
   "outputs": [],
   "source": [
    "from sklearn import model_selection as cv\n",
    "train_data, test_data = cv.train_test_split(d2, test_size = 0.2)\n",
    "\n",
    "for line in train_data.itertuples():\n",
    "    train_data_matrix[line[4] - 1, line[5] - 1] = line[3]\n",
    "\n",
    "test_data_matrix = np.zeros((n_users, n_recipes))\n",
    "for line in test_data.itertuples():\n",
    "    test_data_matrix[line[4] - 1, line[5] - 1] = line[3]"
   ]
  },
  {
   "cell_type": "code",
   "execution_count": 40,
   "metadata": {},
   "outputs": [],
   "source": [
    "from sklearn.metrics.pairwise import pairwise_distances\n",
    "user_similarity = pairwise_distances(train_data_matrix, metric = 'cosine')  \n",
    "item_similarity = pairwise_distances(train_data_matrix.T, metric = 'cosine')"
   ]
  },
  {
   "cell_type": "code",
   "execution_count": 49,
   "metadata": {},
   "outputs": [],
   "source": [
    "def predict(ratings, similarity, type='user'):\n",
    "    if type == 'user':\n",
    "        mean_user_rating = ratings.mean(axis=1) # 每个用户的平均得分\n",
    "        #You use np.newaxis so that mean_user_rating has same format as ratings\n",
    "        ratings_diff = (ratings - mean_user_rating[:, np.newaxis])\n",
    "        pred = mean_user_rating[:, np.newaxis] + similarity.dot(ratings_diff) / np.array([np.abs(similarity).sum(axis=1)]).T\n",
    "    elif type == 'item':\n",
    "        pred = ratings.dot(similarity) / np.array([np.abs(similarity).sum(axis=1)])    \n",
    "    return pred"
   ]
  },
  {
   "cell_type": "code",
   "execution_count": 50,
   "metadata": {},
   "outputs": [],
   "source": [
    "item_prediction = predict(train_data_matrix, item_similarity, type='item')\n",
    "user_prediction = predict(train_data_matrix, user_similarity, type='user')"
   ]
  },
  {
   "cell_type": "code",
   "execution_count": 51,
   "metadata": {},
   "outputs": [
    {
     "output_type": "stream",
     "name": "stdout",
     "text": [
      "User-based CF RMSE: 4.6688050294962675\nItem-based CF RMSE: 4.682442506527549\n"
     ]
    }
   ],
   "source": [
    "from sklearn.metrics import mean_squared_error\n",
    "from math import sqrt\n",
    "def rmse(prediction, ground_truth):\n",
    "    prediction = prediction[ground_truth.nonzero()].flatten()#nonzero(a)返回数组a中值不为零的元素的下标,相当于对稀疏矩阵进行提取\n",
    "    ground_truth = ground_truth[ground_truth.nonzero()].flatten()\n",
    "    return sqrt(mean_squared_error(prediction, ground_truth))\n",
    "\n",
    "print ('User-based CF RMSE: ' + str(rmse(user_prediction, test_data_matrix)))\n",
    "print ('Item-based CF RMSE: ' + str(rmse(item_prediction, test_data_matrix))) "
   ]
  },
  {
   "cell_type": "code",
   "execution_count": null,
   "metadata": {},
   "outputs": [],
   "source": []
  }
 ]
}